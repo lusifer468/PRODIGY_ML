{
  "nbformat": 4,
  "nbformat_minor": 0,
  "metadata": {
    "colab": {
      "provenance": []
    },
    "kernelspec": {
      "name": "python3",
      "display_name": "Python 3"
    },
    "language_info": {
      "name": "python"
    }
  },
  "cells": [
    {
      "cell_type": "code",
      "execution_count": null,
      "metadata": {
        "id": "t5mVgpwdMBne"
      },
      "outputs": [],
      "source": [
        "pip install tensorflow opencv-python matplotlib pandas scikit-learn"
      ]
    },
    {
      "cell_type": "code",
      "source": [
        "import os\n",
        "import cv2\n",
        "import numpy as np\n",
        "import pandas as pd\n",
        "from sklearn.model_selection import train_test_split\n",
        "from tensorflow.keras import layers, models\n",
        "from tensorflow.keras.utils import to_categorical\n",
        "import matplotlib.pyplot as plt\n",
        "\n",
        "# Load the dataset\n",
        "data_dir = \"/path/to/food-101/images\"\n",
        "metadata_path = \"/path/to/food-101/meta/meta/classes.txt\"\n",
        "\n",
        "# Read metadata to get food class names and corresponding IDs\n",
        "metadata = pd.read_csv(metadata_path, header=None, delimiter=' ')\n",
        "class_names = metadata[1].tolist()\n",
        "class_ids = metadata[0].tolist()\n",
        "class_dict = dict(zip(class_ids, class_names))\n",
        "\n",
        "# Load images and labels\n",
        "image_data = []\n",
        "labels = []\n",
        "\n",
        "for class_id, class_name in class_dict.items():\n",
        "    class_dir = os.path.join(data_dir, class_name)\n",
        "    for filename in os.listdir(class_dir):\n",
        "        img_path = os.path.join(class_dir, filename)\n",
        "        img = cv2.imread(img_path, cv2.IMREAD_COLOR)\n",
        "        img = cv2.resize(img, (64, 64))\n",
        "        image_data.append(img)\n",
        "        labels.append(class_id)\n",
        "\n",
        "# Convert the lists to numpy arrays\n",
        "image_data = np.array(image_data)\n",
        "labels = np.array(labels)\n",
        "\n",
        "# Normalize pixel values to be between 0 and 1\n",
        "image_data = image_data / 255.0\n",
        "\n",
        "# Encode labels\n",
        "labels = to_categorical(labels)\n",
        "\n",
        "# Split the dataset into training and testing sets\n",
        "X_train, X_test, y_train, y_test = train_test_split(image_data, labels, test_size=0.2, random_state=42)\n",
        "\n",
        "# Build the CNN model\n",
        "model = models.Sequential()\n",
        "model.add(layers.Conv2D(32, (3, 3), activation='relu', input_shape=(64, 64, 3)))\n",
        "model.add(layers.MaxPooling2D((2, 2)))\n",
        "model.add(layers.Conv2D(64, (3, 3), activation='relu'))\n",
        "model.add(layers.MaxPooling2D((2, 2)))\n",
        "model.add(layers.Flatten())\n",
        "model.add(layers.Dense(128, activation='relu'))\n",
        "model.add(layers.Dense(len(class_dict), activation='softmax'))\n",
        "\n",
        "# Compile the model\n",
        "model.compile(optimizer='adam',\n",
        "              loss='categorical_crossentropy',\n",
        "              metrics=['accuracy'])\n",
        "\n",
        "# Train the model\n",
        "history = model.fit(X_train, y_train, epochs=10, validation_data=(X_test, y_test))\n",
        "\n",
        "# Evaluate the model\n",
        "test_loss, test_acc = model.evaluate(X_test, y_test)\n",
        "print(f'Test Accuracy: {test_acc}')\n",
        "\n",
        "# Plot training history\n",
        "plt.plot(history.history['accuracy'], label='accuracy')\n",
        "plt.plot(history.history['val_accuracy'], label='val_accuracy')\n",
        "plt.xlabel('Epoch')\n",
        "plt.ylabel('Accuracy')\n",
        "plt.legend(loc='lower right')\n",
        "plt.show()\n"
      ],
      "metadata": {
        "id": "JYuzeFtnMEPW"
      },
      "execution_count": null,
      "outputs": []
    }
  ]
}